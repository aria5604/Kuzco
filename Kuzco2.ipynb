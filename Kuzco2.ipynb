{
  "nbformat": 4,
  "nbformat_minor": 0,
  "metadata": {
    "colab": {
      "provenance": [],
      "gpuType": "T4"
    },
    "kernelspec": {
      "name": "python3",
      "display_name": "Python 3"
    },
    "language_info": {
      "name": "python"
    },
    "accelerator": "GPU"
  },
  "cells": [
    {
      "cell_type": "code",
      "execution_count": null,
      "metadata": {
        "id": "AcksWldWWd0m"
      },
      "outputs": [],
      "source": [
        "!curl -fsSL https://kuzco.xyz/install.sh | sh\n",
        "\n",
        "!lsof -i :11434\n",
        "\n",
        "!kuzco worker start --worker MlvC8yAMwkVox73lQ-Utu --code 723e508b-4642-470c-a11a-ab66f5c6b3ea"
      ]
    }
  ]
}
