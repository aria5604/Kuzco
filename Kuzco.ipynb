{
  "nbformat": 4,
  "nbformat_minor": 0,
  "metadata": {
    "colab": {
      "provenance": [],
      "gpuType": "T4"
    },
    "kernelspec": {
      "name": "python3",
      "display_name": "Python 3"
    },
    "language_info": {
      "name": "python"
    },
    "accelerator": "GPU"
  },
  "cells": [
    {
      "cell_type": "code",
      "execution_count": null,
      "metadata": {
        "id": "AcksWldWWd0m"
      },
      "outputs": [],
      "source": [
        "!curl -fsSL https://kuzco.xyz/install.sh | sh\n",
        "\n",
        "!lsof -i :11434\n",
        "\n",
        "!kuzco worker start --worker OCmiz8czGeNA7MK5-Cece --code 6f6d46c5-e55f-492d-833a-b2a0c1a654e8"
      ]
    }
  ]
}
